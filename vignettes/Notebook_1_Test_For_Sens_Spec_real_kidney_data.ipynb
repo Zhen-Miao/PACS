{
  "nbformat": 4,
  "nbformat_minor": 0,
  "metadata": {
    "colab": {
      "provenance": [],
      "include_colab_link": true
    },
    "kernelspec": {
      "name": "ir",
      "display_name": "R"
    },
    "language_info": {
      "name": "R"
    }
  },
  "cells": [
    {
      "cell_type": "markdown",
      "metadata": {
        "id": "view-in-github",
        "colab_type": "text"
      },
      "source": [
        "<a href=\"https://colab.research.google.com/github/Zhen-Miao/PACS/blob/test/Notebook_1_Test_For_Sens_Spec_real_kidney_data.ipynb\" target=\"_parent\"><img src=\"https://colab.research.google.com/assets/colab-badge.svg\" alt=\"Open In Colab\"/></a>"
      ]
    },
    {
      "cell_type": "markdown",
      "source": [
        "# Test PACS sensitivity and specificity\n"
      ],
      "metadata": {
        "id": "qEOFSFleawbo"
      }
    },
    {
      "cell_type": "markdown",
      "source": [
        "## Step 1. Install packages\n",
        "Here in this notebook, we show examples to run PACS test on real data. We need to install several packages first. This may take a while."
      ],
      "metadata": {
        "id": "IkCnuZHqa3lL"
      }
    },
    {
      "cell_type": "code",
      "execution_count": 2,
      "metadata": {
        "colab": {
          "base_uri": "https://localhost:8080/"
        },
        "id": "_mReHcz8Z42P",
        "outputId": "54c22b53-6847-4c46-f03a-dea8585f34bc"
      },
      "outputs": [
        {
          "output_type": "stream",
          "name": "stderr",
          "text": [
            "Installing package into ‘/usr/local/lib/R/site-library’\n",
            "(as ‘lib’ is unspecified)\n",
            "\n",
            "Installing package into ‘/usr/local/lib/R/site-library’\n",
            "(as ‘lib’ is unspecified)\n",
            "\n",
            "Installing package into ‘/usr/local/lib/R/site-library’\n",
            "(as ‘lib’ is unspecified)\n",
            "\n",
            "Installing package into ‘/usr/local/lib/R/site-library’\n",
            "(as ‘lib’ is unspecified)\n",
            "\n"
          ]
        }
      ],
      "source": [
        "install.packages('devtools')\n",
        "install.packages('data.table') ## (please make sure it is newer than 1.8)\n",
        "if (!require(\"BiocManager\", quietly = TRUE))\n",
        "    install.packages(\"BiocManager\")"
      ]
    },
    {
      "cell_type": "markdown",
      "source": [
        "Installing libgsl for Rfast"
      ],
      "metadata": {
        "id": "SFveUZT2ucBs"
      }
    },
    {
      "cell_type": "code",
      "source": [
        "system(\"sudo apt install libgsl-dev\")"
      ],
      "metadata": {
        "id": "ce4VaeV1O2zj"
      },
      "execution_count": 3,
      "outputs": []
    },
    {
      "cell_type": "code",
      "source": [
        "BiocManager::install('SummarizedExperiment')\n",
        "install.packages('dplyr')\n",
        "install.packages('Matrix')\n",
        "install.packages('tidyr')\n",
        "install.packages('parallel')\n",
        "install.packages('tictoc')\n",
        "# install.packages('logistf')\n",
        "# install.packages('nabor')"
      ],
      "metadata": {
        "colab": {
          "base_uri": "https://localhost:8080/"
        },
        "id": "amzyBo5yNA-D",
        "outputId": "6078c76c-3262-4390-ccf4-a74e59e6bd0c"
      },
      "execution_count": 4,
      "outputs": [
        {
          "output_type": "stream",
          "name": "stderr",
          "text": [
            "'getOption(\"repos\")' replaces Bioconductor standard repositories, see\n",
            "'help(\"repositories\", package = \"BiocManager\")' for details.\n",
            "Replacement repositories:\n",
            "    CRAN: https://cran.rstudio.com\n",
            "\n",
            "Bioconductor version 3.17 (BiocManager 1.30.22), R 4.3.1 (2023-06-16)\n",
            "\n",
            "Warning message:\n",
            "“package(s) not installed when version(s) same as or greater than current; use\n",
            "  `force = TRUE` to re-install: 'SummarizedExperiment'”\n",
            "Old packages: 'bit', 'bslib', 'curl', 'devtools', 'fontawesome', 'gargle',\n",
            "  'ggplot2', 'gtable', 'highr', 'httr', 'isoband', 'openssl', 'rmarkdown',\n",
            "  'roxygen2', 'uuid', 'whisker', 'boot', 'foreign', 'Matrix', 'nlme',\n",
            "  'survival'\n",
            "\n",
            "Installing package into ‘/usr/local/lib/R/site-library’\n",
            "(as ‘lib’ is unspecified)\n",
            "\n",
            "Installing package into ‘/usr/local/lib/R/site-library’\n",
            "(as ‘lib’ is unspecified)\n",
            "\n",
            "Installing package into ‘/usr/local/lib/R/site-library’\n",
            "(as ‘lib’ is unspecified)\n",
            "\n",
            "Installing package into ‘/usr/local/lib/R/site-library’\n",
            "(as ‘lib’ is unspecified)\n",
            "\n",
            "Warning message:\n",
            "“package ‘parallel’ is a base package, and should not be updated”\n",
            "Installing package into ‘/usr/local/lib/R/site-library’\n",
            "(as ‘lib’ is unspecified)\n",
            "\n",
            "Installing package into ‘/usr/local/lib/R/site-library’\n",
            "(as ‘lib’ is unspecified)\n",
            "\n",
            "Installing package into ‘/usr/local/lib/R/site-library’\n",
            "(as ‘lib’ is unspecified)\n",
            "\n"
          ]
        }
      ]
    },
    {
      "cell_type": "code",
      "source": [
        "BiocManager::install(c(\"GenomeInfoDb\",\"Rsamtools\",\"IRanges\"))\n",
        "devtools::install_github(\"Zhen-Miao/PIC-snATAC\")\n",
        "devtools::install_github(\"Zhen-Miao/PACS\")"
      ],
      "metadata": {
        "colab": {
          "base_uri": "https://localhost:8080/"
        },
        "id": "ndDkjQROigzE",
        "outputId": "b7902d15-30d5-4b02-d2ba-df2889acb7b8"
      },
      "execution_count": 5,
      "outputs": [
        {
          "output_type": "stream",
          "name": "stderr",
          "text": [
            "'getOption(\"repos\")' replaces Bioconductor standard repositories, see\n",
            "'help(\"repositories\", package = \"BiocManager\")' for details.\n",
            "Replacement repositories:\n",
            "    CRAN: https://cran.rstudio.com\n",
            "\n",
            "Bioconductor version 3.17 (BiocManager 1.30.22), R 4.3.1 (2023-06-16)\n",
            "\n",
            "Warning message:\n",
            "“package(s) not installed when version(s) same as or greater than current; use\n",
            "  `force = TRUE` to re-install: 'GenomeInfoDb' 'Rsamtools' 'IRanges'”\n",
            "Old packages: 'bit', 'bslib', 'curl', 'devtools', 'fontawesome', 'gargle',\n",
            "  'ggplot2', 'gtable', 'highr', 'httr', 'isoband', 'openssl', 'rmarkdown',\n",
            "  'roxygen2', 'uuid', 'whisker', 'boot', 'foreign', 'Matrix', 'nlme',\n",
            "  'survival'\n",
            "\n",
            "Skipping install of 'PICsnATAC' from a github remote, the SHA1 (87ddb9e3) has not changed since last install.\n",
            "  Use `force = TRUE` to force installation\n",
            "\n",
            "Skipping install of 'PACS' from a github remote, the SHA1 (cec0a716) has not changed since last install.\n",
            "  Use `force = TRUE` to force installation\n",
            "\n",
            "Installing package into ‘/usr/local/lib/R/site-library’\n",
            "(as ‘lib’ is unspecified)\n",
            "\n"
          ]
        }
      ]
    },
    {
      "cell_type": "code",
      "source": [
        "BiocManager::install('edgeR')\n",
        "devtools::install_github(\"immunogenomics/presto\")"
      ],
      "metadata": {
        "colab": {
          "base_uri": "https://localhost:8080/"
        },
        "id": "ZBamOhXwJCur",
        "outputId": "62a4ed49-4938-4d5e-9b03-e8049c4d6350"
      },
      "execution_count": 6,
      "outputs": [
        {
          "output_type": "stream",
          "name": "stderr",
          "text": [
            "'getOption(\"repos\")' replaces Bioconductor standard repositories, see\n",
            "'help(\"repositories\", package = \"BiocManager\")' for details.\n",
            "Replacement repositories:\n",
            "    CRAN: https://cran.rstudio.com\n",
            "\n",
            "Bioconductor version 3.17 (BiocManager 1.30.22), R 4.3.1 (2023-06-16)\n",
            "\n",
            "Warning message:\n",
            "“package(s) not installed when version(s) same as or greater than current; use\n",
            "  `force = TRUE` to re-install: 'edgeR'”\n",
            "Old packages: 'bit', 'bslib', 'curl', 'devtools', 'fontawesome', 'gargle',\n",
            "  'ggplot2', 'gtable', 'highr', 'httr', 'isoband', 'openssl', 'rmarkdown',\n",
            "  'roxygen2', 'uuid', 'whisker', 'boot', 'foreign', 'Matrix', 'nlme',\n",
            "  'survival'\n",
            "\n",
            "Skipping install of 'presto' from a github remote, the SHA1 (31dc97fe) has not changed since last install.\n",
            "  Use `force = TRUE` to force installation\n",
            "\n"
          ]
        }
      ]
    },
    {
      "cell_type": "code",
      "source": [
        "library('Rfast',silent = T)"
      ],
      "metadata": {
        "id": "qZtCR1rdzOns"
      },
      "execution_count": null,
      "outputs": []
    },
    {
      "cell_type": "markdown",
      "source": [
        "Source scripts from PACS"
      ],
      "metadata": {
        "id": "bp7c2Wn7ug27"
      }
    },
    {
      "cell_type": "code",
      "source": [
        "source(\"https://raw.githubusercontent.com/Zhen-Miao/PACS/main/R/param_estimate_joint_p_q.R\")\n",
        "source(\"https://raw.githubusercontent.com/Zhen-Miao/PACS/main/R/CCT_function.R\")\n",
        "source(\"https://raw.githubusercontent.com/Zhen-Miao/PACS/main/R/differential_identification.R\")\n",
        "source(\"https://raw.githubusercontent.com/Zhen-Miao/PACS/main/R/param_estimate_simple.R\")\n",
        "source(\"https://raw.githubusercontent.com/Zhen-Miao/PACS/main/R/param-estimate_logit_get_p_by_t_June.R\")\n",
        "source(\"https://raw.githubusercontent.com/Zhen-Miao/PACS/main/analysis_codes/other_methods_for_differential_updated.R\")\n",
        "source(\"https://raw.githubusercontent.com/Zhen-Miao/PACS/main/R/PACS_test_auto.R\")\n",
        "source(\"https://raw.githubusercontent.com/Zhen-Miao/PACS/main/R/PACS_test_logit.R\")\n",
        "source(\"https://raw.githubusercontent.com/Zhen-Miao/PACS/main/R/PACS_test_cumulative.R\")"
      ],
      "metadata": {
        "colab": {
          "base_uri": "https://localhost:8080/"
        },
        "id": "pbVZRM4sQPej",
        "outputId": "2ae045dd-c284-47ce-dcec-7a42b895b3a4"
      },
      "execution_count": 7,
      "outputs": [
        {
          "output_type": "stream",
          "name": "stderr",
          "text": [
            "Loading required package: Rcpp\n",
            "\n",
            "Loading required package: RcppZiggurat\n",
            "\n",
            "\n",
            "Rfast:  2.0.8\n",
            "\n",
            " ___ __ __ __ __    __ __ __ __ __ _             _               __ __ __ __ __     __ __ __ __ __ __   \n",
            "|  __ __ __ __  |  |  __ __ __ __ _/            / \\             |  __ __ __ __ /   /__ __ _   _ __ __\\  \n",
            "| |           | |  | |                         / _ \\            | |                        / /          \n",
            "| |           | |  | |                        / / \\ \\           | |                       / /          \n",
            "| |           | |  | |                       / /   \\ \\          | |                      / /          \n",
            "| |__ __ __ __| |  | |__ __ __ __           / /     \\ \\         | |__ __ __ __ _        / /__/\\          \n",
            "|    __ __ __ __|  |  __ __ __ __|         / /__ _ __\\ \\        |_ __ __ __ _   |      / ___  /           \n",
            "|   \\              | |                    / _ _ _ _ _ _ \\                     | |      \\/  / /       \n",
            "| |\\ \\             | |                   / /           \\ \\                    | |         / /          \n",
            "| | \\ \\            | |                  / /             \\ \\                   | |        / /          \n",
            "| |  \\ \\           | |                 / /               \\ \\                  | |       / /          \n",
            "| |   \\ \\__ __ _   | |                / /                 \\ \\     _ __ __ __ _| |      / /          \n",
            "|_|    \\__ __ __\\  |_|               /_/                   \\_\\   /_ __ __ __ ___|      \\/             team\n",
            "\n",
            "Loading required package: data.table\n",
            "\n",
            "\n",
            "Attaching package: ‘data.table’\n",
            "\n",
            "\n",
            "The following object is masked from ‘package:Rfast’:\n",
            "\n",
            "    transpose\n",
            "\n",
            "\n",
            "Loading required package: limma\n",
            "\n"
          ]
        }
      ]
    },
    {
      "cell_type": "markdown",
      "source": [
        "## Step 2. Load packages"
      ],
      "metadata": {
        "id": "pKVRnN2EXSrf"
      }
    },
    {
      "cell_type": "code",
      "source": [
        "library('SummarizedExperiment')\n",
        "library('dplyr')\n",
        "library('Matrix')\n",
        "library('tidyr')\n",
        "library('parallel')\n",
        "library('tictoc')\n",
        "library('logistf')\n",
        "library('edgeR')\n",
        "library('presto')\n",
        "library('nabor')\n",
        "library('PICsnATAC')\n",
        "# library('Signac')\n",
        "# library('Seurat')"
      ],
      "metadata": {
        "colab": {
          "base_uri": "https://localhost:8080/"
        },
        "id": "pjxAJ9yLiRVM",
        "outputId": "d076cc2e-ff6a-4827-9597-2f54d9884ebb"
      },
      "execution_count": 8,
      "outputs": [
        {
          "output_type": "stream",
          "name": "stderr",
          "text": [
            "Loading required package: MatrixGenerics\n",
            "\n",
            "Loading required package: matrixStats\n",
            "\n",
            "\n",
            "Attaching package: ‘matrixStats’\n",
            "\n",
            "\n",
            "The following objects are masked from ‘package:Rfast’:\n",
            "\n",
            "    colMads, colMaxs, colMedians, colMins, colRanks, colVars, rowMads,\n",
            "    rowMaxs, rowMedians, rowMins, rowRanks, rowVars\n",
            "\n",
            "\n",
            "\n",
            "Attaching package: ‘MatrixGenerics’\n",
            "\n",
            "\n",
            "The following objects are masked from ‘package:matrixStats’:\n",
            "\n",
            "    colAlls, colAnyNAs, colAnys, colAvgsPerRowSet, colCollapse,\n",
            "    colCounts, colCummaxs, colCummins, colCumprods, colCumsums,\n",
            "    colDiffs, colIQRDiffs, colIQRs, colLogSumExps, colMadDiffs,\n",
            "    colMads, colMaxs, colMeans2, colMedians, colMins, colOrderStats,\n",
            "    colProds, colQuantiles, colRanges, colRanks, colSdDiffs, colSds,\n",
            "    colSums2, colTabulates, colVarDiffs, colVars, colWeightedMads,\n",
            "    colWeightedMeans, colWeightedMedians, colWeightedSds,\n",
            "    colWeightedVars, rowAlls, rowAnyNAs, rowAnys, rowAvgsPerColSet,\n",
            "    rowCollapse, rowCounts, rowCummaxs, rowCummins, rowCumprods,\n",
            "    rowCumsums, rowDiffs, rowIQRDiffs, rowIQRs, rowLogSumExps,\n",
            "    rowMadDiffs, rowMads, rowMaxs, rowMeans2, rowMedians, rowMins,\n",
            "    rowOrderStats, rowProds, rowQuantiles, rowRanges, rowRanks,\n",
            "    rowSdDiffs, rowSds, rowSums2, rowTabulates, rowVarDiffs, rowVars,\n",
            "    rowWeightedMads, rowWeightedMeans, rowWeightedMedians,\n",
            "    rowWeightedSds, rowWeightedVars\n",
            "\n",
            "\n",
            "The following objects are masked from ‘package:Rfast’:\n",
            "\n",
            "    colMads, colMaxs, colMedians, colMins, colRanks, colVars, rowMads,\n",
            "    rowMaxs, rowMedians, rowMins, rowRanks, rowVars\n",
            "\n",
            "\n",
            "Loading required package: GenomicRanges\n",
            "\n",
            "Loading required package: stats4\n",
            "\n",
            "Loading required package: BiocGenerics\n",
            "\n",
            "\n",
            "Attaching package: ‘BiocGenerics’\n",
            "\n",
            "\n",
            "The following object is masked from ‘package:limma’:\n",
            "\n",
            "    plotMA\n",
            "\n",
            "\n",
            "The following objects are masked from ‘package:stats’:\n",
            "\n",
            "    IQR, mad, sd, var, xtabs\n",
            "\n",
            "\n",
            "The following objects are masked from ‘package:base’:\n",
            "\n",
            "    anyDuplicated, aperm, append, as.data.frame, basename, cbind,\n",
            "    colnames, dirname, do.call, duplicated, eval, evalq, Filter, Find,\n",
            "    get, grep, grepl, intersect, is.unsorted, lapply, Map, mapply,\n",
            "    match, mget, order, paste, pmax, pmax.int, pmin, pmin.int,\n",
            "    Position, rank, rbind, Reduce, rownames, sapply, setdiff, sort,\n",
            "    table, tapply, union, unique, unsplit, which.max, which.min\n",
            "\n",
            "\n",
            "Loading required package: S4Vectors\n",
            "\n",
            "\n",
            "Attaching package: ‘S4Vectors’\n",
            "\n",
            "\n",
            "The following objects are masked from ‘package:data.table’:\n",
            "\n",
            "    first, second\n",
            "\n",
            "\n",
            "The following object is masked from ‘package:utils’:\n",
            "\n",
            "    findMatches\n",
            "\n",
            "\n",
            "The following objects are masked from ‘package:base’:\n",
            "\n",
            "    expand.grid, I, unname\n",
            "\n",
            "\n",
            "Loading required package: IRanges\n",
            "\n",
            "\n",
            "Attaching package: ‘IRanges’\n",
            "\n",
            "\n",
            "The following object is masked from ‘package:data.table’:\n",
            "\n",
            "    shift\n",
            "\n",
            "\n",
            "Loading required package: GenomeInfoDb\n",
            "\n",
            "Loading required package: Biobase\n",
            "\n",
            "Welcome to Bioconductor\n",
            "\n",
            "    Vignettes contain introductory material; view with\n",
            "    'browseVignettes()'. To cite Bioconductor, see\n",
            "    'citation(\"Biobase\")', and for packages 'citation(\"pkgname\")'.\n",
            "\n",
            "\n",
            "\n",
            "Attaching package: ‘Biobase’\n",
            "\n",
            "\n",
            "The following object is masked from ‘package:MatrixGenerics’:\n",
            "\n",
            "    rowMedians\n",
            "\n",
            "\n",
            "The following objects are masked from ‘package:matrixStats’:\n",
            "\n",
            "    anyMissing, rowMedians\n",
            "\n",
            "\n",
            "The following object is masked from ‘package:Rfast’:\n",
            "\n",
            "    rowMedians\n",
            "\n",
            "\n",
            "\n",
            "Attaching package: ‘dplyr’\n",
            "\n",
            "\n",
            "The following object is masked from ‘package:Biobase’:\n",
            "\n",
            "    combine\n",
            "\n",
            "\n",
            "The following objects are masked from ‘package:GenomicRanges’:\n",
            "\n",
            "    intersect, setdiff, union\n",
            "\n",
            "\n",
            "The following object is masked from ‘package:GenomeInfoDb’:\n",
            "\n",
            "    intersect\n",
            "\n",
            "\n",
            "The following objects are masked from ‘package:IRanges’:\n",
            "\n",
            "    collapse, desc, intersect, setdiff, slice, union\n",
            "\n",
            "\n",
            "The following objects are masked from ‘package:S4Vectors’:\n",
            "\n",
            "    first, intersect, rename, setdiff, setequal, union\n",
            "\n",
            "\n",
            "The following objects are masked from ‘package:BiocGenerics’:\n",
            "\n",
            "    combine, intersect, setdiff, union\n",
            "\n",
            "\n",
            "The following object is masked from ‘package:matrixStats’:\n",
            "\n",
            "    count\n",
            "\n",
            "\n",
            "The following objects are masked from ‘package:data.table’:\n",
            "\n",
            "    between, first, last\n",
            "\n",
            "\n",
            "The following object is masked from ‘package:Rfast’:\n",
            "\n",
            "    nth\n",
            "\n",
            "\n",
            "The following objects are masked from ‘package:stats’:\n",
            "\n",
            "    filter, lag\n",
            "\n",
            "\n",
            "The following objects are masked from ‘package:base’:\n",
            "\n",
            "    intersect, setdiff, setequal, union\n",
            "\n",
            "\n",
            "\n",
            "Attaching package: ‘Matrix’\n",
            "\n",
            "\n",
            "The following object is masked from ‘package:S4Vectors’:\n",
            "\n",
            "    expand\n",
            "\n",
            "\n",
            "\n",
            "Attaching package: ‘tidyr’\n",
            "\n",
            "\n",
            "The following objects are masked from ‘package:Matrix’:\n",
            "\n",
            "    expand, pack, unpack\n",
            "\n",
            "\n",
            "The following object is masked from ‘package:S4Vectors’:\n",
            "\n",
            "    expand\n",
            "\n",
            "\n",
            "\n",
            "Attaching package: ‘tictoc’\n",
            "\n",
            "\n",
            "The following object is masked from ‘package:SummarizedExperiment’:\n",
            "\n",
            "    shift\n",
            "\n",
            "\n",
            "The following object is masked from ‘package:GenomicRanges’:\n",
            "\n",
            "    shift\n",
            "\n",
            "\n",
            "The following object is masked from ‘package:IRanges’:\n",
            "\n",
            "    shift\n",
            "\n",
            "\n",
            "The following object is masked from ‘package:data.table’:\n",
            "\n",
            "    shift\n",
            "\n",
            "\n",
            "The following object is masked from ‘package:Rfast’:\n",
            "\n",
            "    Stack\n",
            "\n",
            "\n",
            "\n",
            "Attaching package: ‘nabor’\n",
            "\n",
            "\n",
            "The following object is masked from ‘package:Rfast’:\n",
            "\n",
            "    knn\n",
            "\n",
            "\n",
            "Warning message:\n",
            "“replacing previous import ‘GenomicRanges::intersect’ by ‘dplyr::intersect’ when loading ‘PICsnATAC’”\n",
            "Warning message:\n",
            "“replacing previous import ‘GenomicRanges::union’ by ‘dplyr::union’ when loading ‘PICsnATAC’”\n",
            "Warning message:\n",
            "“replacing previous import ‘GenomicRanges::setdiff’ by ‘dplyr::setdiff’ when loading ‘PICsnATAC’”\n",
            "\n",
            "Attaching package: ‘PICsnATAC’\n",
            "\n",
            "\n",
            "The following object is masked _by_ ‘.GlobalEnv’:\n",
            "\n",
            "    get_r_by_ct_mat_pq\n",
            "\n",
            "\n",
            "The legacy packages maptools, rgdal, and rgeos, underpinning the sp package,\n",
            "which was just loaded, will retire in October 2023.\n",
            "Please refer to R-spatial evolution reports for details, especially\n",
            "https://r-spatial.org/r/2023/05/15/evolution4.html.\n",
            "It may be desirable to make the sf package available;\n",
            "package maintainers should consider adding sf to Suggests:.\n",
            "The sp package is now running under evolution status 2\n",
            "     (status 2 uses the sf package in place of rgdal)\n",
            "\n",
            "Attaching SeuratObject\n",
            "\n",
            "\n",
            "Attaching package: ‘Seurat’\n",
            "\n",
            "\n",
            "The following object is masked from ‘package:SummarizedExperiment’:\n",
            "\n",
            "    Assays\n",
            "\n",
            "\n"
          ]
        }
      ]
    },
    {
      "cell_type": "markdown",
      "source": [
        "## Step 3. Load data.\n",
        "Here, we have provided a real kidney dataset from Google Drive."
      ],
      "metadata": {
        "id": "Jhf5Ms5AXYNK"
      }
    },
    {
      "cell_type": "code",
      "source": [
        "system(\"gdown --id 1eEdziIGLbuSA7OiRpSO8sLy1kg1NJbBM\")\n",
        "kidney_features_to_keep <- readRDS('kidney_features_to_keep.rds')"
      ],
      "metadata": {
        "id": "f1-8TR4Pix37"
      },
      "execution_count": 9,
      "outputs": []
    },
    {
      "cell_type": "code",
      "source": [
        "system(\"gdown --id 1v2x1HPzVCLXbrow5XeHbZfAqVuhfKnQG\")\n",
        "load('data_for_test_for_t1e_power.rdata')"
      ],
      "metadata": {
        "id": "f86CTg2RH-k-"
      },
      "execution_count": 10,
      "outputs": []
    },
    {
      "cell_type": "code",
      "source": [
        "system(\"gdown --id 1gZgi6g4NBu-XDvcZLAlvy7uUqBj1LKH_\")\n",
        "r_by_ct_est = readRDS('r_by_ct_est_kidney_adult.rds')"
      ],
      "metadata": {
        "id": "e66deIOFRk0A"
      },
      "execution_count": 11,
      "outputs": []
    },
    {
      "cell_type": "markdown",
      "source": [
        "In this data subset, we have retained two abundant cell types, PT and LOH cells. In each cell type, we retained a random subset of 1000 cells. We construct a peak-by-cell matrix and subset based on the cell types."
      ],
      "metadata": {
        "id": "TYLcc1rNZLJV"
      }
    },
    {
      "cell_type": "code",
      "source": [
        "pmatpt <- pmats[x.sp_cluster2 == 'PT',kidney_features_to_keep]   ##6308 cells, 159038 features\n",
        "q_val <- r_by_ct_est$q_vec_new[x.sp_cluster2 == 'PT']\n",
        "cell_type_labels = x.sp_cluster2[x.sp_cluster2 == 'PT']"
      ],
      "metadata": {
        "id": "6BXAt7qVZYvH"
      },
      "execution_count": 12,
      "outputs": []
    },
    {
      "cell_type": "code",
      "source": [
        "actual_pmatpt <- pmats[x.sp_cluster2 %in% c('PT','LOH'),kidney_features_to_keep]\n",
        "actual_q_val <- r_by_ct_est$q_vec_new[x.sp_cluster2 %in% c('PT','LOH')]\n",
        "actual_cell_type_labels = x.sp_cluster2[x.sp_cluster2 %in% c('PT','LOH')]"
      ],
      "metadata": {
        "id": "SOkxOtmZetRN"
      },
      "execution_count": 13,
      "outputs": []
    },
    {
      "cell_type": "code",
      "source": [
        "p_by_c <- t(pmatpt)\n",
        "p_by_c@x[p_by_c@x >= 10] = 0 ## remove the outlier counts\n",
        "p_by_c = drop0(p_by_c)\n",
        "\n",
        "actual_p_by_c <- t(actual_pmatpt)\n",
        "actual_p_by_c@x[actual_p_by_c@x >= 10] = 0 ## remove the outlier counts\n",
        "actual_p_by_c = drop0(actual_p_by_c)"
      ],
      "metadata": {
        "id": "v_q-VZtCbCOy"
      },
      "execution_count": 14,
      "outputs": []
    },
    {
      "cell_type": "code",
      "source": [
        "rs = rowSums(p_by_c)\n",
        "quantile(rs)\n",
        "\n",
        "p_by_c = p_by_c[rs > 18,]\n",
        "\n",
        "actual_rs = rowSums(actual_p_by_c)\n",
        "quantile(actual_rs)\n",
        "\n",
        "actual_p_by_c = actual_p_by_c[actual_rs > 18,]"
      ],
      "metadata": {
        "colab": {
          "base_uri": "https://localhost:8080/",
          "height": 52
        },
        "id": "jS9geO46bdhv",
        "outputId": "53b18be9-a9ad-4422-de4a-a36cb4ac96ba"
      },
      "execution_count": 15,
      "outputs": [
        {
          "output_type": "display_data",
          "data": {
            "text/html": [
              "<style>\n",
              ".dl-inline {width: auto; margin:0; padding: 0}\n",
              ".dl-inline>dt, .dl-inline>dd {float: none; width: auto; display: inline-block}\n",
              ".dl-inline>dt::after {content: \":\\0020\"; padding-right: .5ex}\n",
              ".dl-inline>dt:not(:first-of-type) {padding-left: .5ex}\n",
              "</style><dl class=dl-inline><dt>0%</dt><dd>0</dd><dt>25%</dt><dd>19</dd><dt>50%</dt><dd>61</dd><dt>75%</dt><dd>224</dd><dt>100%</dt><dd>17382</dd></dl>\n"
            ],
            "text/markdown": "0%\n:   025%\n:   1950%\n:   6175%\n:   224100%\n:   17382\n\n",
            "text/latex": "\\begin{description*}\n\\item[0\\textbackslash{}\\%] 0\n\\item[25\\textbackslash{}\\%] 19\n\\item[50\\textbackslash{}\\%] 61\n\\item[75\\textbackslash{}\\%] 224\n\\item[100\\textbackslash{}\\%] 17382\n\\end{description*}\n",
            "text/plain": [
              "   0%   25%   50%   75%  100% \n",
              "    0    19    61   224 17382 "
            ]
          },
          "metadata": {}
        },
        {
          "output_type": "display_data",
          "data": {
            "text/html": [
              "<style>\n",
              ".dl-inline {width: auto; margin:0; padding: 0}\n",
              ".dl-inline>dt, .dl-inline>dd {float: none; width: auto; display: inline-block}\n",
              ".dl-inline>dt::after {content: \":\\0020\"; padding-right: .5ex}\n",
              ".dl-inline>dt:not(:first-of-type) {padding-left: .5ex}\n",
              "</style><dl class=dl-inline><dt>0%</dt><dd>0</dd><dt>25%</dt><dd>33</dd><dt>50%</dt><dd>85</dd><dt>75%</dt><dd>275</dd><dt>100%</dt><dd>20323</dd></dl>\n"
            ],
            "text/markdown": "0%\n:   025%\n:   3350%\n:   8575%\n:   275100%\n:   20323\n\n",
            "text/latex": "\\begin{description*}\n\\item[0\\textbackslash{}\\%] 0\n\\item[25\\textbackslash{}\\%] 33\n\\item[50\\textbackslash{}\\%] 85\n\\item[75\\textbackslash{}\\%] 275\n\\item[100\\textbackslash{}\\%] 20323\n\\end{description*}\n",
            "text/plain": [
              "   0%   25%   50%   75%  100% \n",
              "    0    33    85   275 20323 "
            ]
          },
          "metadata": {}
        }
      ]
    },
    {
      "cell_type": "markdown",
      "source": [
        "Here, we set number of cells to sample as 500. If compute resources allow, you can also set n_cell_sample to 1000."
      ],
      "metadata": {
        "id": "yITCD3jBvjO_"
      }
    },
    {
      "cell_type": "code",
      "source": [
        "n_cell_total = ncol(p_by_c)\n",
        "act_n_cell_total = ncol(actual_p_by_c)\n",
        "n_repeat <- 5\n",
        "# n_cell_sample <- 1000\n",
        "n_cell_sample <- 500\n",
        "n_features_sample <- 10000 ## here we use all features\n",
        "n_features_total <- dim(p_by_c)[1]\n",
        "act_n_features_total <- dim(actual_p_by_c)[1]"
      ],
      "metadata": {
        "id": "JyxOpzYnU6JP"
      },
      "execution_count": 16,
      "outputs": []
    },
    {
      "cell_type": "code",
      "source": [
        "set.seed(3384)"
      ],
      "metadata": {
        "id": "pyDoTTzBU96q"
      },
      "execution_count": 17,
      "outputs": []
    },
    {
      "cell_type": "markdown",
      "source": [
        "We have total of five different methods that we want to test"
      ],
      "metadata": {
        "id": "JoVD4XyLvthZ"
      }
    },
    {
      "cell_type": "code",
      "source": [
        "## store the data in the following matrix\n",
        "methods_all <- c('our', 'seurat', 'archR', 'snapATAC','fisher')\n",
        "#############################\n",
        "p_value_permuted_label <- rep(list(), length = length(methods_all))\n",
        "names(p_value_permuted_label) <- methods_all\n",
        "for(m in methods_all){\n",
        "  p_value_permuted_label[[m]] = matrix(ncol = n_repeat, nrow = n_features_sample)\n",
        "}\n",
        "#############################\n",
        "p_value_actual_label <- rep(list(), length = length(methods_all))\n",
        "names(p_value_actual_label) <- methods_all\n",
        "for(m in methods_all){\n",
        "  p_value_actual_label[[m]] = matrix(ncol = n_repeat, nrow = n_features_sample)\n",
        "}"
      ],
      "metadata": {
        "id": "VUKoI1pYVDiR"
      },
      "execution_count": 18,
      "outputs": []
    },
    {
      "cell_type": "code",
      "source": [
        "p_by_c1 = actual_p_by_c[,actual_cell_type_labels %in% c('PT')]\n",
        "q_val1 = actual_q_val[actual_cell_type_labels %in% c('PT')]\n",
        "\n",
        "p_by_c2 = actual_p_by_c[,actual_cell_type_labels %in% c('LOH')]\n",
        "q_val2 = actual_q_val[actual_cell_type_labels %in% c('LOH')]\n",
        "\n",
        "cells_sampled1_mat <- matrix(ncol = n_repeat, nrow = n_cell_sample )\n",
        "cells_sampled2_mat <- matrix(ncol = n_repeat, nrow = n_cell_sample )\n",
        "act_cells_sampled1_mat <- matrix(ncol = n_repeat, nrow = n_cell_sample )\n",
        "act_cells_sampled2_mat <- matrix(ncol = n_repeat, nrow = n_cell_sample )\n",
        "features_sampled_mat <- matrix(ncol = n_repeat, nrow = n_features_sample )\n",
        "\n",
        "for(iii in 1:5){\n",
        "\n",
        "  ## only one matrix here\n",
        "  all_cells1 = sample(1:ncol(p_by_c1), replace = F,size = n_cell_sample)\n",
        "  all_cells2 = sample(1:ncol(p_by_c2), replace = F,size = n_cell_sample)\n",
        "\n",
        "  ## random sample some cells\n",
        "  act_cells_sampled1_mat[,iii] <- all_cells1\n",
        "  act_cells_sampled2_mat[,iii] <- all_cells2\n",
        "\n",
        "  # f1 = sample(1:act_n_features_total, replace = F, size = n_features_sample)\n",
        "  # features_sampled_mat[,iii] <- f1\n",
        "}\n",
        "\n",
        "for(iii in 1:5){\n",
        "  ## only one matrix here\n",
        "  all_cells = sample(1:(n_cell_total), replace = F,size = n_cell_sample*2)\n",
        "\n",
        "  ## random sample some cells\n",
        "  cells_sampled1_mat[,iii] <- all_cells[1:n_cell_sample]\n",
        "  cells_sampled2_mat[,iii] <- all_cells[(1:n_cell_sample)+n_cell_sample]\n",
        "\n",
        "  f1 = sample(1:n_features_total, replace = F, size = n_features_sample)\n",
        "  features_sampled_mat[,iii] <- f1\n",
        "}"
      ],
      "metadata": {
        "id": "kK8XnX1CVMoS"
      },
      "execution_count": 19,
      "outputs": []
    },
    {
      "cell_type": "code",
      "source": [
        "# cells_sampled1_mat <- readRDS('data/kidney_cells_sampled1_mat.rds')\n",
        "# cells_sampled2_mat <- readRDS('data/kidney_cells_sampled2_mat.rds')\n",
        "# features_sampled_mat <- readRDS('data/kidney_features_sampled_mat.rds')\n",
        "saveRDS(act_cells_sampled1_mat,'data/kidney_cells_sampled1_mat_power.rds')\n",
        "saveRDS(act_cells_sampled2_mat,'data/kidney_cells_sampled2_mat_power.rds')\n",
        "saveRDS(cells_sampled1_mat,'data/kidney_cells_sampled1_mat.rds')\n",
        "saveRDS(cells_sampled2_mat,'data/kidney_cells_sampled2_mat.rds')\n",
        "saveRDS(features_sampled_mat,'data/kidney_features_sampled_mat.rds')"
      ],
      "metadata": {
        "colab": {
          "base_uri": "https://localhost:8080/",
          "height": 217
        },
        "id": "zM3ZK30vVRbp",
        "outputId": "99eb848d-e3ce-4832-f5c3-72b7ed5ab965"
      },
      "execution_count": null,
      "outputs": [
        {
          "output_type": "stream",
          "name": "stderr",
          "text": [
            "Warning message in gzfile(file, mode):\n",
            "“cannot open compressed file 'data/kidney_cells_sampled1_mat_power.rds', probable reason 'No such file or directory'”\n"
          ]
        },
        {
          "output_type": "error",
          "ename": "ERROR",
          "evalue": "ignored",
          "traceback": [
            "Error in gzfile(file, mode): cannot open the connection\nTraceback:\n",
            "1. saveRDS(act_cells_sampled1_mat, \"data/kidney_cells_sampled1_mat_power.rds\")",
            "2. gzfile(file, mode)"
          ]
        }
      ]
    },
    {
      "cell_type": "markdown",
      "source": [
        "## Step 4. P value calculation\n",
        "Next, we compute the p values for the five pre-determined methods (including PACS) in this part."
      ],
      "metadata": {
        "id": "NNCqAhx6-0KC"
      }
    },
    {
      "cell_type": "code",
      "source": [
        "#----------- input --------------\n",
        "for(iii in 1:5){\n",
        "\n",
        "  ## random sample some cells and peaks\n",
        "  cells_sampled1 <- cells_sampled1_mat[,iii]\n",
        "  cells_sampled2 <- cells_sampled2_mat[,iii]\n",
        "  data_matrix_pos <- p_by_c[,cells_sampled1]\n",
        "  data_matrix_neg <- p_by_c[,cells_sampled2]\n",
        "  true_q_pos <- q_val[cells_sampled1]\n",
        "  true_q_neg <- q_val[cells_sampled2]\n",
        "##############################\n",
        "  act_cells_sampled1 <- act_cells_sampled1_mat[,iii]\n",
        "  act_cells_sampled2 <- act_cells_sampled2_mat[,iii]\n",
        "  act_data_matrix_pos <- p_by_c1[,act_cells_sampled1]\n",
        "  act_data_matrix_neg <- p_by_c2[,act_cells_sampled2]\n",
        "  act_true_q_pos <- q_val1[act_cells_sampled1]\n",
        "  act_true_q_neg <- q_val2[act_cells_sampled2]\n",
        "\n",
        "\n",
        "  colnames(data_matrix_pos) <- colnames(data_matrix_neg) <- c(1:n_cell_sample)\n",
        "\n",
        "  ## get some quantities\n",
        "  n_p = dim(data_matrix_pos)[2]\n",
        "  n_n = dim(data_matrix_neg)[2]\n",
        "  n_reads_cell = c(colSums(data_matrix_pos), colSums(data_matrix_neg))\n",
        "\n",
        "  ## sample features\n",
        "  data_matrix_pos = data_matrix_pos[features_sampled_mat[,iii],]\n",
        "  data_matrix_neg = data_matrix_neg[features_sampled_mat[,iii],]\n",
        "\n",
        "  ## our method\n",
        "  group.info <- data.frame(group = c(rep.int(0,times = n_p),\n",
        "                                     rep.int(1,times = n_n )))\n",
        "\n",
        "  data_mat = cbind(data_matrix_pos, data_matrix_neg)\n",
        "  data_mat = Matrix(data_mat,sparse = T)\n",
        "  rownames(data_mat) = paste('f', 1:(nrow(data_matrix_pos)), sep = '_')\n",
        "\n",
        "##############################\n",
        "  colnames(act_data_matrix_pos) <- colnames(act_data_matrix_neg) <- c(1:n_cell_sample)\n",
        "\n",
        "  ## get some quantities\n",
        "  act_n_p = dim(act_data_matrix_pos)[2]\n",
        "  act_n_n = dim(act_data_matrix_neg)[2]\n",
        "  act_n_reads_cell = c(colSums(act_data_matrix_pos), colSums(act_data_matrix_neg))\n",
        "\n",
        "  ## sample features\n",
        "  act_data_matrix_pos = act_data_matrix_pos[features_sampled_mat[,iii],]\n",
        "  act_data_matrix_neg = act_data_matrix_neg[features_sampled_mat[,iii],]\n",
        "\n",
        "  ## our method\n",
        "  act_group.info <- data.frame(group = c(rep.int(0,times = act_n_p),\n",
        "                                     rep.int(1,times = act_n_n )))\n",
        "\n",
        "  act_data_mat = cbind(act_data_matrix_pos, act_data_matrix_neg)\n",
        "  act_data_mat = Matrix(act_data_mat,sparse = T)\n",
        "  rownames(act_data_mat) = paste('f', 1:(nrow(act_data_matrix_pos)), sep = '_')\n",
        "\n",
        "  our_p = pacs_test_sparse(\n",
        "    covariate_meta.data = group.info,\n",
        "    formula_full = ~ factor(group),\n",
        "    formula_null = ~ 1,\n",
        "    pic_matrix = data_mat,\n",
        "    n_peaks_per_round = NULL, T_proportion_cutoff = 0.2,\n",
        "    cap_rates = c(true_q_pos, true_q_neg)\n",
        "  )$pacs_p_val\n",
        "\n",
        "  act_our_p = pacs_test_sparse(\n",
        "    covariate_meta.data = act_group.info,\n",
        "    formula_full = ~ factor(group),\n",
        "    formula_null = ~ 1,\n",
        "    pic_matrix = act_data_mat,\n",
        "    n_peaks_per_round = NULL, T_proportion_cutoff = 0.2,\n",
        "    cap_rates = c(act_true_q_pos, act_true_q_neg)\n",
        "  )$pacs_p_val\n",
        "\n",
        "  p_value_permuted_label[['our']][,iii] = our_p\n",
        "  p_value_actual_label[['our']][,iii] = act_our_p\n",
        "\n",
        "  ## seurat\n",
        "  p_value_permuted_label[['seurat']][,iii] = seurat_method2_subsample(data_matrix_pos, data_matrix_neg,\n",
        "                           n_reads_cell)\n",
        "  p_value_actual_label[['seurat']][,iii] = seurat_method2_subsample(act_data_matrix_pos, act_data_matrix_neg,\n",
        "                           act_n_reads_cell)\n",
        "\n",
        "  ## snapATAC-- edgeR method\n",
        "  data_matrix_pos_2= data_matrix_pos\n",
        "  data_matrix_pos_2@x[data_matrix_pos_2@x != 0] = 1\n",
        "  data_matrix_neg_2= data_matrix_neg\n",
        "  data_matrix_neg_2@x[data_matrix_neg_2@x != 0] = 1\n",
        "  p_value_permuted_label[['snapATAC']][,iii] <-\n",
        "    snapATAC_method(data_matrix_pos_2, data_matrix_neg_2, bcv = 0.4)\n",
        "##############################\n",
        "  act_data_matrix_pos_2= act_data_matrix_pos\n",
        "  act_data_matrix_pos_2@x[act_data_matrix_pos_2@x != 0] = 1\n",
        "  act_data_matrix_neg_2= act_data_matrix_neg\n",
        "  act_data_matrix_neg_2@x[act_data_matrix_neg_2@x != 0] = 1\n",
        "  p_value_actual_label[['snapATAC']][,iii] <-\n",
        "    snapATAC_method(act_data_matrix_pos_2, act_data_matrix_neg_2, bcv = 0.4)\n",
        "\n",
        "  # Fisher's exact test\n",
        "  p_value_permuted_label[['fisher']][,iii] <-\n",
        "    fisher_method(data_matrix_pos_2, data_matrix_neg_2)\n",
        "  p_value_actual_label[['fisher']][,iii] <-\n",
        "    fisher_method(act_data_matrix_pos_2, act_data_matrix_neg_2)\n",
        "\n",
        "  ## archR method\n",
        "  p_value_permuted_label[['archR']][,iii] <- archR_method(data_matrix_pos,data_matrix_neg)\n",
        "  p_value_actual_label[['archR']][,iii] <- archR_method(act_data_matrix_pos,act_data_matrix_neg)\n",
        "\n",
        "}"
      ],
      "metadata": {
        "id": "FI0ewCM4-ThT",
        "colab": {
          "base_uri": "https://localhost:8080/"
        },
        "outputId": "22bcdff9-14c5-4301-ed23-1723f352addb"
      },
      "execution_count": 24,
      "outputs": [
        {
          "output_type": "stream",
          "name": "stdout",
          "text": [
            "[1] \"920 peaks consider cumulative logit models\"\n",
            "[1] \"9080 peaks consider logit models\"\n",
            "parameter_estimation: 3.549 sec elapsed\n",
            "[1] \"37 regions fail to converge, try newton\"\n",
            " f_538  f_813 f_1436 f_1517 f_1600 f_1825 \n",
            "    59     84    143    154    161    174 \n",
            "newton method for estimation: 0.142 sec elapsed\n",
            "[1] \"21 regions fail to converge aftere newton\"\n",
            "running parameter_estimation: 2.869 sec elapsed\n",
            "[1] \"37 regions fail to converge, try newton\"\n",
            " f_538  f_813 f_1436 f_1517 f_1600 f_1825 \n",
            "    59     84    143    154    161    174 \n",
            "newton method for estimation: 0.137 sec elapsed\n",
            "[1] \"19 regions fail to converge aftere newton\"\n",
            "computing firth loss start: 0.144 sec elapsed\n",
            "pacs computing cumulative logit part: 7.427 sec elapsed\n",
            "parameter_estimation: 17.639 sec elapsed\n",
            "[1] \"0 regions fail to converge, try newton\"\n",
            "named integer(0)\n",
            "running parameter_estimation: 17.259 sec elapsed\n",
            "[1] \"0 regions fail to converge, try newton\"\n",
            "named integer(0)\n",
            "computing firth loss start: 1.015 sec elapsed\n",
            "pacs computing cumulative logit part: 38.067 sec elapsed\n",
            "[1] \"1067 peaks consider cumulative logit models\"\n",
            "[1] \"8933 peaks consider logit models\"\n",
            "parameter_estimation: 3.602 sec elapsed\n",
            "[1] \"25 regions fail to converge, try newton\"\n",
            " f_565 f_1051 f_1244 f_1536 f_2369 f_2463 \n",
            "    52    100    120    161    256    267 \n",
            "newton method for estimation: 0.092 sec elapsed\n",
            "[1] \"13 regions fail to converge aftere newton\"\n",
            "running parameter_estimation: 3.849 sec elapsed\n",
            "[1] \"25 regions fail to converge, try newton\"\n",
            " f_565 f_1051 f_1244 f_1536 f_2369 f_2463 \n",
            "    52    100    120    161    256    267 \n",
            "newton method for estimation: 0.092 sec elapsed\n",
            "[1] \"14 regions fail to converge aftere newton\"\n",
            "computing firth loss start: 0.168 sec elapsed\n",
            "pacs computing cumulative logit part: 8.419 sec elapsed\n",
            "parameter_estimation: 17.305 sec elapsed\n",
            "[1] \"0 regions fail to converge, try newton\"\n",
            "named integer(0)\n",
            "running parameter_estimation: 20.711 sec elapsed\n",
            "[1] \"0 regions fail to converge, try newton\"\n",
            "named integer(0)\n",
            "computing firth loss start: 0.776 sec elapsed\n",
            "pacs computing cumulative logit part: 41.076 sec elapsed\n",
            "[1] \"matchObj finished\"\n",
            "[1] \"length of matched cells\"\n",
            "[1] 400\n",
            "[1] \"727\" \"673\" \"998\" \"874\" \"912\" \"807\"\n",
            "[1] 1000\n",
            "[1] \"matchObj finished\"\n",
            "[1] \"length of matched cells\"\n",
            "[1] 358\n",
            "[1] \"809\" \"594\" \"512\" \"563\" \"508\" \"856\"\n",
            "[1] 999\n",
            "[1] \"994 peaks consider cumulative logit models\"\n",
            "[1] \"9006 peaks consider logit models\"\n",
            "parameter_estimation: 3.192 sec elapsed\n",
            "[1] \"41 regions fail to converge, try newton\"\n",
            " f_755  f_782 f_1001 f_1050 f_1434 f_1610 \n",
            "    66     73     92     97    127    143 \n",
            "newton method for estimation: 0.162 sec elapsed\n",
            "[1] \"24 regions fail to converge aftere newton\"\n",
            "running parameter_estimation: 3.205 sec elapsed\n",
            "[1] \"40 regions fail to converge, try newton\"\n",
            " f_755  f_782 f_1001 f_1050 f_1434 f_1610 \n",
            "    66     73     92     97    127    143 \n",
            "newton method for estimation: 0.148 sec elapsed\n",
            "[1] \"24 regions fail to converge aftere newton\"\n",
            "computing firth loss start: 0.162 sec elapsed\n",
            "pacs computing cumulative logit part: 7.456 sec elapsed\n",
            "parameter_estimation: 16.74 sec elapsed\n",
            "[1] \"0 regions fail to converge, try newton\"\n",
            "named integer(0)\n",
            "running parameter_estimation: 17.646 sec elapsed\n",
            "[1] \"0 regions fail to converge, try newton\"\n",
            "named integer(0)\n",
            "computing firth loss start: 0.767 sec elapsed\n",
            "pacs computing cumulative logit part: 37.327 sec elapsed\n",
            "[1] \"1058 peaks consider cumulative logit models\"\n",
            "[1] \"8942 peaks consider logit models\"\n",
            "parameter_estimation: 3.566 sec elapsed\n",
            "[1] \"26 regions fail to converge, try newton\"\n",
            " f_188  f_422  f_688 f_1499 f_2018 f_2464 \n",
            "    21     52     88    173    224    271 \n",
            "newton method for estimation: 0.109 sec elapsed\n",
            "[1] \"15 regions fail to converge aftere newton\"\n",
            "running parameter_estimation: 4.515 sec elapsed\n",
            "[1] \"30 regions fail to converge, try newton\"\n",
            " f_188  f_422  f_688 f_1351 f_1499 f_2018 \n",
            "    21     52     88    161    173    224 \n",
            "newton method for estimation: 0.112 sec elapsed\n",
            "[1] \"15 regions fail to converge aftere newton\"\n",
            "computing firth loss start: 0.177 sec elapsed\n",
            "pacs computing cumulative logit part: 9.082 sec elapsed\n",
            "parameter_estimation: 18.133 sec elapsed\n",
            "[1] \"0 regions fail to converge, try newton\"\n",
            "named integer(0)\n",
            "running parameter_estimation: 19.517 sec elapsed\n",
            "[1] \"0 regions fail to converge, try newton\"\n",
            "named integer(0)\n",
            "computing firth loss start: 0.884 sec elapsed\n",
            "pacs computing cumulative logit part: 40.993 sec elapsed\n",
            "[1] \"matchObj finished\"\n",
            "[1] \"length of matched cells\"\n",
            "[1] 400\n",
            "[1] \"582\" \"955\" \"593\" \"804\" \"784\" \"924\"\n",
            "[1] 1000\n",
            "[1] \"matchObj finished\"\n",
            "[1] \"length of matched cells\"\n",
            "[1] 365\n",
            "[1] \"679\" \"635\" \"593\" \"792\" \"502\" \"561\"\n",
            "[1] 1000\n",
            "[1] \"924 peaks consider cumulative logit models\"\n",
            "[1] \"9076 peaks consider logit models\"\n",
            "parameter_estimation: 2.909 sec elapsed\n",
            "[1] \"25 regions fail to converge, try newton\"\n",
            " f_224  f_417  f_752 f_1564 f_1687 f_1769 \n",
            "    20     33     73    141    152    156 \n",
            "newton method for estimation: 0.093 sec elapsed\n",
            "[1] \"13 regions fail to converge aftere newton\"\n",
            "running parameter_estimation: 3.468 sec elapsed\n",
            "[1] \"23 regions fail to converge, try newton\"\n",
            " f_224  f_752 f_1564 f_1687 f_1769 f_1772 \n",
            "    20     73    141    152    156    157 \n",
            "newton method for estimation: 0.086 sec elapsed\n",
            "[1] \"12 regions fail to converge aftere newton\"\n",
            "computing firth loss start: 0.144 sec elapsed\n",
            "pacs computing cumulative logit part: 7.258 sec elapsed\n",
            "parameter_estimation: 16.799 sec elapsed\n",
            "[1] \"0 regions fail to converge, try newton\"\n",
            "named integer(0)\n",
            "running parameter_estimation: 17.87 sec elapsed\n",
            "[1] \"0 regions fail to converge, try newton\"\n",
            "named integer(0)\n",
            "computing firth loss start: 0.919 sec elapsed\n",
            "pacs computing cumulative logit part: 37.727 sec elapsed\n",
            "[1] \"976 peaks consider cumulative logit models\"\n",
            "[1] \"9024 peaks consider logit models\"\n",
            "parameter_estimation: 3.88 sec elapsed\n",
            "[1] \"20 regions fail to converge, try newton\"\n",
            " f_655 f_1285 f_1466 f_2881 f_2934 f_3169 \n",
            "    63    129    145    274    284    311 \n",
            "newton method for estimation: 0.077 sec elapsed\n",
            "[1] \"10 regions fail to converge aftere newton\"\n",
            "running parameter_estimation: 3.434 sec elapsed\n",
            "[1] \"19 regions fail to converge, try newton\"\n",
            " f_655 f_1285 f_1466 f_2881 f_2934 f_3928 \n",
            "    63    129    145    274    284    394 \n",
            "newton method for estimation: 0.081 sec elapsed\n",
            "[1] \"12 regions fail to converge aftere newton\"\n",
            "computing firth loss start: 0.15 sec elapsed\n",
            "pacs computing cumulative logit part: 8.18 sec elapsed\n",
            "parameter_estimation: 17.883 sec elapsed\n",
            "[1] \"0 regions fail to converge, try newton\"\n",
            "named integer(0)\n",
            "running parameter_estimation: 19.04 sec elapsed\n",
            "[1] \"0 regions fail to converge, try newton\"\n",
            "named integer(0)\n",
            "computing firth loss start: 1.218 sec elapsed\n",
            "pacs computing cumulative logit part: 40.518 sec elapsed\n",
            "[1] \"matchObj finished\"\n",
            "[1] \"length of matched cells\"\n",
            "[1] 400\n",
            "[1] \"939\" \"878\" \"626\" \"940\" \"736\" \"637\"\n",
            "[1] 1000\n",
            "[1] \"matchObj finished\"\n",
            "[1] \"length of matched cells\"\n",
            "[1] 353\n",
            "[1] \"992\" \"510\" \"745\" \"985\" \"758\" \"994\"\n",
            "[1] 1000\n",
            "[1] \"1000 peaks consider cumulative logit models\"\n",
            "[1] \"9000 peaks consider logit models\"\n",
            "parameter_estimation: 3.303 sec elapsed\n",
            "[1] \"39 regions fail to converge, try newton\"\n",
            "  f_86  f_253  f_498  f_865 f_1039 f_1126 \n",
            "     4     16     38     79    101    107 \n",
            "newton method for estimation: 0.146 sec elapsed\n",
            "[1] \"21 regions fail to converge aftere newton\"\n",
            "running parameter_estimation: 4.72 sec elapsed\n",
            "[1] \"39 regions fail to converge, try newton\"\n",
            "  f_86  f_253  f_498  f_865 f_1039 f_1126 \n",
            "     4     16     38     79    101    107 \n",
            "newton method for estimation: 0.146 sec elapsed\n",
            "[1] \"22 regions fail to converge aftere newton\"\n",
            "computing firth loss start: 0.154 sec elapsed\n",
            "pacs computing cumulative logit part: 8.903 sec elapsed\n",
            "parameter_estimation: 17.043 sec elapsed\n",
            "[1] \"0 regions fail to converge, try newton\"\n",
            "named integer(0)\n",
            "running parameter_estimation: 17.051 sec elapsed\n",
            "[1] \"0 regions fail to converge, try newton\"\n",
            "named integer(0)\n",
            "computing firth loss start: 0.799 sec elapsed\n",
            "pacs computing cumulative logit part: 37.163 sec elapsed\n",
            "[1] \"987 peaks consider cumulative logit models\"\n",
            "[1] \"9013 peaks consider logit models\"\n",
            "parameter_estimation: 3.935 sec elapsed\n",
            "[1] \"30 regions fail to converge, try newton\"\n",
            " f_170  f_247  f_473  f_604  f_919 f_1448 \n",
            "    18     23     50     62     91    151 \n",
            "newton method for estimation: 0.112 sec elapsed\n",
            "[1] \"20 regions fail to converge aftere newton\"\n",
            "running parameter_estimation: 3.594 sec elapsed\n",
            "[1] \"31 regions fail to converge, try newton\"\n",
            " f_170  f_247  f_473  f_604  f_919 f_1448 \n",
            "    18     23     50     62     91    151 \n",
            "newton method for estimation: 0.117 sec elapsed\n",
            "[1] \"19 regions fail to converge aftere newton\"\n",
            "computing firth loss start: 0.168 sec elapsed\n",
            "pacs computing cumulative logit part: 8.475 sec elapsed\n",
            "parameter_estimation: 18.209 sec elapsed\n",
            "[1] \"0 regions fail to converge, try newton\"\n",
            "named integer(0)\n",
            "running parameter_estimation: 20.011 sec elapsed\n",
            "[1] \"0 regions fail to converge, try newton\"\n",
            "named integer(0)\n",
            "computing firth loss start: 0.904 sec elapsed\n",
            "pacs computing cumulative logit part: 41.447 sec elapsed\n",
            "[1] \"matchObj finished\"\n",
            "[1] \"length of matched cells\"\n",
            "[1] 400\n",
            "[1] \"748\" \"799\" \"588\" \"984\" \"782\" \"909\"\n",
            "[1] 1000\n",
            "[1] \"matchObj finished\"\n",
            "[1] \"length of matched cells\"\n",
            "[1] 343\n",
            "[1] \"803\" \"941\" \"644\" \"564\" \"793\" \"902\"\n",
            "[1] 1000\n",
            "[1] \"851 peaks consider cumulative logit models\"\n",
            "[1] \"9149 peaks consider logit models\"\n",
            "parameter_estimation: 2.951 sec elapsed\n",
            "[1] \"38 regions fail to converge, try newton\"\n",
            " f_152  f_615  f_773  f_982 f_1057 f_1158 \n",
            "    14     56     68     87     92    102 \n",
            "newton method for estimation: 0.216 sec elapsed\n",
            "[1] \"22 regions fail to converge aftere newton\"\n",
            "running parameter_estimation: 3.049 sec elapsed\n",
            "[1] \"38 regions fail to converge, try newton\"\n",
            " f_152  f_615  f_773  f_982 f_1057 f_1158 \n",
            "    14     56     68     87     92    102 \n",
            "newton method for estimation: 0.142 sec elapsed\n",
            "[1] \"22 regions fail to converge aftere newton\"\n",
            "computing firth loss start: 0.135 sec elapsed\n",
            "pacs computing cumulative logit part: 7.023 sec elapsed\n",
            "parameter_estimation: 16.999 sec elapsed\n",
            "[1] \"0 regions fail to converge, try newton\"\n",
            "named integer(0)\n",
            "running parameter_estimation: 17.22 sec elapsed\n",
            "[1] \"0 regions fail to converge, try newton\"\n",
            "named integer(0)\n",
            "computing firth loss start: 0.884 sec elapsed\n",
            "pacs computing cumulative logit part: 37.561 sec elapsed\n",
            "[1] \"954 peaks consider cumulative logit models\"\n",
            "[1] \"9046 peaks consider logit models\"\n",
            "parameter_estimation: 3.866 sec elapsed\n",
            "[1] \"48 regions fail to converge, try newton\"\n",
            " f_485  f_521  f_572 f_1048 f_1270 f_1625 \n",
            "    41     45     55    103    126    157 \n",
            "newton method for estimation: 0.178 sec elapsed\n",
            "[1] \"31 regions fail to converge aftere newton\"\n",
            "running parameter_estimation: 4.294 sec elapsed\n",
            "[1] \"51 regions fail to converge, try newton\"\n",
            " f_485  f_572 f_1048 f_1270 f_1625 f_2223 \n",
            "    41     55    103    126    157    219 \n",
            "newton method for estimation: 0.189 sec elapsed\n",
            "[1] \"30 regions fail to converge aftere newton\"\n",
            "computing firth loss start: 0.148 sec elapsed\n",
            "pacs computing cumulative logit part: 9.209 sec elapsed\n",
            "parameter_estimation: 17.99 sec elapsed\n",
            "[1] \"0 regions fail to converge, try newton\"\n",
            "named integer(0)\n",
            "running parameter_estimation: 19.312 sec elapsed\n",
            "[1] \"0 regions fail to converge, try newton\"\n",
            "named integer(0)\n",
            "computing firth loss start: 0.892 sec elapsed\n",
            "pacs computing cumulative logit part: 40.667 sec elapsed\n",
            "[1] \"matchObj finished\"\n",
            "[1] \"length of matched cells\"\n",
            "[1] 400\n",
            "[1] \"575\" \"812\" \"554\" \"956\" \"796\" \"560\"\n",
            "[1] 1000\n",
            "[1] \"matchObj finished\"\n",
            "[1] \"length of matched cells\"\n",
            "[1] 357\n",
            "[1] \"728\" \"880\" \"684\" \"691\" \"923\" \"931\"\n",
            "[1] 1000\n"
          ]
        }
      ]
    },
    {
      "cell_type": "markdown",
      "source": [
        "## Step 5. Compute Type 1 error and Power\n",
        "Now we use the calculated p value for the permuted label to compute type 1 error, and actual labels to compute power of the five different methods. Note that the actual DAR set is unknown, so we set the union of identified differential peaks as the \"pseudo-true\" set of DAR for power evaluation."
      ],
      "metadata": {
        "id": "uz1QfBTFYnI2"
      }
    },
    {
      "cell_type": "code",
      "source": [
        "t1power_mat <- matrix(nrow = length(methods_all), ncol = 5)\n",
        "colnames(t1power_mat) <- c('t1e','t1e_sd','power','power_sd','scenario')\n",
        "rownames(t1power_mat) <- methods_all\n",
        "t1power_mat[,'scenario'] <- 1"
      ],
      "metadata": {
        "id": "J5oR8Ws11qRi"
      },
      "execution_count": 25,
      "outputs": []
    },
    {
      "cell_type": "markdown",
      "source": [
        "We will only compute the p values for peaks with at least four cells accessible."
      ],
      "metadata": {
        "id": "MhSs8OuEgqgh"
      }
    },
    {
      "cell_type": "code",
      "source": [
        "for(jj in methods_all){\n",
        "  t1e_pic <- colMeans(p_value_permuted_label[[jj]] < 0.05) ## get the type 1 error --> I believe your current approach is exactly this\n",
        "  t1power_mat[jj,'t1e'] <- mean(t1e_pic)\n",
        "  t1power_mat[jj,'t1e_sd'] <- sd(t1e_pic)\n",
        "}\n",
        "\n",
        "\n",
        "pic_cut <- min(0.05,quantile(p_value_permuted_label[['our']],0.05))\n",
        "pseu_cut <- min(0.05,quantile(p_value_permuted_label[['seurat']],0.05))\n",
        "parch_cut <- min(0.05,quantile(p_value_permuted_label[['archR']],0.05))\n",
        "psnap_cut <- min(0.05,quantile(p_value_permuted_label[['snapATAC']],0.05))\n",
        "pfisher_cut <- min(0.05,quantile(p_value_permuted_label[['fisher']],0.05))\n",
        "\n",
        "power_mat = matrix(ncol = 5, nrow = nrow(t1power_mat))\n",
        "rownames(power_mat) = rownames(t1power_mat)\n",
        "\n",
        "for(ii in 1:5){\n",
        "  union_true = p_value_actual_label[['our']][,ii] < pic_cut |\n",
        "    p_value_actual_label[['seurat']][,ii] < pseu_cut |\n",
        "    p_value_actual_label[['archR']][,ii] < parch_cut |\n",
        "    p_value_actual_label[['snapATAC']][,ii] < psnap_cut\n",
        "  power_mat['our',ii] = sum(p_value_actual_label[['our']][,ii] < pic_cut & union_true) / sum(union_true)\n",
        "  power_mat['seurat',ii] = sum(p_value_actual_label[['seurat']][,ii] < pseu_cut & union_true) / sum(union_true)\n",
        "  power_mat['archR',ii] = sum(p_value_actual_label[['archR']][,ii] < parch_cut & union_true) / sum(union_true)\n",
        "  power_mat['snapATAC',ii] = sum(p_value_actual_label[['snapATAC']][,ii] < psnap_cut & union_true) / sum(union_true)\n",
        "  power_mat['fisher',ii] = sum(p_value_actual_label[['fisher']][,ii] < pfisher_cut & union_true) / sum(union_true)\n",
        "}\n",
        "\n",
        "t1power_mat[,'power'] = rowMeans(power_mat)\n",
        "t1power_mat[,'power_sd'] = sqrt(Rfast::rowVars(power_mat))"
      ],
      "metadata": {
        "id": "keBwfTDFvEDv"
      },
      "execution_count": 27,
      "outputs": []
    },
    {
      "cell_type": "code",
      "source": [
        "t1power_mat"
      ],
      "metadata": {
        "colab": {
          "base_uri": "https://localhost:8080/",
          "height": 224
        },
        "id": "H-UmsGJBXn_a",
        "outputId": "2b142fde-3352-44d4-8405-bf0e369409b5"
      },
      "execution_count": 28,
      "outputs": [
        {
          "output_type": "display_data",
          "data": {
            "text/html": [
              "<table class=\"dataframe\">\n",
              "<caption>A matrix: 5 × 5 of type dbl</caption>\n",
              "<thead>\n",
              "\t<tr><th></th><th scope=col>t1e</th><th scope=col>t1e_sd</th><th scope=col>power</th><th scope=col>power_sd</th><th scope=col>scenario</th></tr>\n",
              "</thead>\n",
              "<tbody>\n",
              "\t<tr><th scope=row>our</th><td>0.04514</td><td>0.002839542</td><td>0.8535168</td><td>0.003320934</td><td>1</td></tr>\n",
              "\t<tr><th scope=row>seurat</th><td>0.06506</td><td>0.002129084</td><td>0.8422159</td><td>0.010782965</td><td>1</td></tr>\n",
              "\t<tr><th scope=row>archR</th><td>0.04316</td><td>0.002862342</td><td>0.7251011</td><td>0.014754139</td><td>1</td></tr>\n",
              "\t<tr><th scope=row>snapATAC</th><td>0.00150</td><td>0.000543139</td><td>0.4275627</td><td>0.006406180</td><td>1</td></tr>\n",
              "\t<tr><th scope=row>fisher</th><td>0.02640</td><td>0.001653784</td><td>0.7392320</td><td>0.006495894</td><td>1</td></tr>\n",
              "</tbody>\n",
              "</table>\n"
            ],
            "text/markdown": "\nA matrix: 5 × 5 of type dbl\n\n| <!--/--> | t1e | t1e_sd | power | power_sd | scenario |\n|---|---|---|---|---|---|\n| our | 0.04514 | 0.002839542 | 0.8535168 | 0.003320934 | 1 |\n| seurat | 0.06506 | 0.002129084 | 0.8422159 | 0.010782965 | 1 |\n| archR | 0.04316 | 0.002862342 | 0.7251011 | 0.014754139 | 1 |\n| snapATAC | 0.00150 | 0.000543139 | 0.4275627 | 0.006406180 | 1 |\n| fisher | 0.02640 | 0.001653784 | 0.7392320 | 0.006495894 | 1 |\n\n",
            "text/latex": "A matrix: 5 × 5 of type dbl\n\\begin{tabular}{r|lllll}\n  & t1e & t1e\\_sd & power & power\\_sd & scenario\\\\\n\\hline\n\tour & 0.04514 & 0.002839542 & 0.8535168 & 0.003320934 & 1\\\\\n\tseurat & 0.06506 & 0.002129084 & 0.8422159 & 0.010782965 & 1\\\\\n\tarchR & 0.04316 & 0.002862342 & 0.7251011 & 0.014754139 & 1\\\\\n\tsnapATAC & 0.00150 & 0.000543139 & 0.4275627 & 0.006406180 & 1\\\\\n\tfisher & 0.02640 & 0.001653784 & 0.7392320 & 0.006495894 & 1\\\\\n\\end{tabular}\n",
            "text/plain": [
              "         t1e     t1e_sd      power     power_sd    scenario\n",
              "our      0.04514 0.002839542 0.8535168 0.003320934 1       \n",
              "seurat   0.06506 0.002129084 0.8422159 0.010782965 1       \n",
              "archR    0.04316 0.002862342 0.7251011 0.014754139 1       \n",
              "snapATAC 0.00150 0.000543139 0.4275627 0.006406180 1       \n",
              "fisher   0.02640 0.001653784 0.7392320 0.006495894 1       "
            ]
          },
          "metadata": {}
        }
      ]
    },
    {
      "cell_type": "markdown",
      "source": [
        "## Processed data\n",
        "Some processed data can be downloaded here:\n",
        "https://drive.google.com/file/d/1eEdziIGLbuSA7OiRpSO8sLy1kg1NJbBM/view?usp=drive_link\n",
        "\n",
        "https://drive.google.com/file/d/1v2x1HPzVCLXbrow5XeHbZfAqVuhfKnQG/view?usp=drive_link\n",
        "\n",
        "https://drive.google.com/file/d/1gZgi6g4NBu-XDvcZLAlvy7uUqBj1LKH_/view?usp=drive_link"
      ],
      "metadata": {
        "id": "AGOTEqXkocBt"
      }
    },
    {
      "cell_type": "markdown",
      "source": [
        "## Reference\n",
        "For this worksheet, we used the following public data:\n",
        "Miao, Z., Balzer, M.S., Ma, Z. et al. Single cell regulatory landscape of the mouse kidney highlights cellular differentiation programs and disease targets. _Nat Commun_ 12, 2277 (2021). https://doi.org/10.1038/s41467-021-22266-1\n",
        "\n",
        "If you used PIC-snATAC counting in your analysis, please cite our manuscript:\n",
        "\n",
        "Miao, Z., Wang, J., Park, K., Kuang, D., & Kim, J.. Model-based compound hypothesis testing for snATAC-seq data with PACS. _bioRxiv_, 2023-07."
      ],
      "metadata": {
        "id": "ngyet-sLmFZm"
      }
    }
  ]
}